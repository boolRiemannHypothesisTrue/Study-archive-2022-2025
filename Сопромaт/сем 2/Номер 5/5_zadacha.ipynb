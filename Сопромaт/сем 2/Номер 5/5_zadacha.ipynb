{
  "cells": [
    {
      "cell_type": "code",
      "execution_count": null,
      "metadata": {
        "trusted": true
      },
      "outputs": [],
      "source": [
        "import numpy as np\n",
        "from matplotlib import pyplot as plt\n",
        "from scipy import linalg"
      ]
    },
    {
      "cell_type": "code",
      "execution_count": null,
      "metadata": {
        "trusted": true
      },
      "outputs": [],
      "source": [
        "a=0.05\n",
        "R=0.90\n",
        "delta=4*10**-5\n",
        "p0=0.6*10**6\n",
        "m=0.2*10**6\n",
        "E=200*10**9\n",
        "σ=240*10**6\n",
        "Nx=0\n",
        "μ=0.3"
      ]
    },
    {
      "cell_type": "code",
      "execution_count": null,
      "metadata": {
        "trusted": true
      },
      "outputs": [],
      "source": [
        "h=p0*R/σ\n",
        "print (f'\\nЗначение h={h} м\\n')\n",
        "h=40*h  # подобранное значение толщины чтобы выполнялся критерий прочности \n",
        "print (f'Подогнанное значение h={h} м\\n')"
      ]
    },
    {
      "cell_type": "code",
      "execution_count": null,
      "metadata": {
        "trusted": true
      },
      "outputs": [],
      "source": [
        "D=E*h**3/(12*(1-μ**2))\n",
        "print (f'\\nЦилиндрическая жесткость D={D}\\n')"
      ]
    },
    {
      "cell_type": "code",
      "execution_count": null,
      "metadata": {
        "trusted": true
      },
      "outputs": [],
      "source": [
        "k = (E*h/(4*D*R**2))**(1/4)\n",
        "print(f'\\nВолновое число k={k} м^-1\\n')"
      ]
    },
    {
      "cell_type": "code",
      "execution_count": null,
      "metadata": {
        "trusted": true
      },
      "outputs": [],
      "source": [
        "λ=np.pi/k\n",
        "print (f'\\nДлина краевого эффекта λ={λ} м\\n')"
      ]
    },
    {
      "cell_type": "code",
      "execution_count": null,
      "metadata": {
        "trusted": true
      },
      "outputs": [],
      "source": [
        "C=np.array([[0,1], # матрица краевых условий\n",
        "           [1,1]])"
      ]
    },
    {
      "cell_type": "code",
      "execution_count": null,
      "metadata": {
        "trusted": true
      },
      "outputs": [],
      "source": [
        "b=np.array([m/(2*D*k**2),0])  # вектор краевых условий"
      ]
    },
    {
      "cell_type": "code",
      "execution_count": null,
      "metadata": {
        "trusted": true
      },
      "outputs": [],
      "source": [
        "x = linalg.solve(C, b)\n",
        "C1=x[0]\n",
        "C2=x[1]\n",
        "print(f'\\nКоэффициенты C равны:\\nC1={C1}\\nC2={C2}\\n')"
      ]
    },
    {
      "cell_type": "code",
      "execution_count": null,
      "metadata": {
        "trusted": true
      },
      "outputs": [],
      "source": [
        "def W(x): #Функция прогиба\n",
        "    return C1*np.exp(-k*x)*np.cos(k*x)+C2*np.exp(-k*x)*np.sin(k*x)+p0*R**2/(E*h)"
      ]
    },
    {
      "cell_type": "code",
      "execution_count": null,
      "metadata": {
        "trusted": true
      },
      "outputs": [],
      "source": [
        "def φ(x): #Функция углового перемещения\n",
        "    return -k*np.exp(-k*x)*((C1-C2)*np.cos(k*x)+(C1+C2)*np.sin(k*x))"
      ]
    },
    {
      "cell_type": "code",
      "execution_count": null,
      "metadata": {
        "trusted": true
      },
      "outputs": [],
      "source": [
        "def Mx(x): #Функция момента Mx\n",
        "    return 2*k**2*np.exp(-k*x)*D*(C1*np.sin(k*x)-C2*np.cos(k*x))"
      ]
    },
    {
      "cell_type": "code",
      "execution_count": null,
      "metadata": {
        "trusted": true
      },
      "outputs": [],
      "source": [
        "def My(x): #Функция момента My\n",
        "    return μ*Mx(x)"
      ]
    },
    {
      "cell_type": "code",
      "execution_count": null,
      "metadata": {
        "trusted": true
      },
      "outputs": [],
      "source": [
        "def Ny(x): #Функция окружного усиления\n",
        "    return μ*Nx+E*h/R*W(x)"
      ]
    },
    {
      "cell_type": "code",
      "execution_count": null,
      "metadata": {
        "trusted": true
      },
      "outputs": [],
      "source": [
        "def Q(x): #Функция поперечной силы Q\n",
        "    return 2*k**3*D*np.exp(-k*x)*((C1+C2)*np.cos(k*x)-(C1-C2)*np.sin(k*x))"
      ]
    },
    {
      "cell_type": "code",
      "execution_count": null,
      "metadata": {
        "trusted": true
      },
      "outputs": [],
      "source": [
        "def σx_inner(x): #Функция напряжения σx для внутренней поверхности оболочки\n",
        "    return Nx/h+6*Mx(x)/h**2"
      ]
    },
    {
      "cell_type": "code",
      "execution_count": null,
      "metadata": {
        "trusted": true
      },
      "outputs": [],
      "source": [
        "def σx_outer(x): #Функция напряжения σx для внешней поверхности оболочки\n",
        "    return Nx/h-6*Mx(x)/h**2"
      ]
    },
    {
      "cell_type": "code",
      "execution_count": null,
      "metadata": {
        "trusted": true
      },
      "outputs": [],
      "source": [
        "def σy_inner(x): #Функция напряжения σy для внутренней поверхности оболочки\n",
        "    return Ny(x)/h+6*My(x)/h**2"
      ]
    },
    {
      "cell_type": "code",
      "execution_count": null,
      "metadata": {
        "trusted": true
      },
      "outputs": [],
      "source": [
        "def σy_outer(x):  #Функция напряжения σy для внешней поверхности оболочки\n",
        "    return Ny(x)/h-6*My(x)/h**2"
      ]
    },
    {
      "cell_type": "code",
      "execution_count": null,
      "metadata": {
        "trusted": true
      },
      "outputs": [],
      "source": [
        "def σ_eqv_inner(x): #Функция эквивалентного напряжения для внутренней поверхности оболочки\n",
        "    return np.sqrt(σx_inner(x)**2+σy_inner(x)**2-σx_inner(x)*σy_inner(x))"
      ]
    },
    {
      "cell_type": "code",
      "execution_count": null,
      "metadata": {
        "trusted": true
      },
      "outputs": [],
      "source": [
        "def σ_eqv_outer(x): #Функция эквивалентного напряжения для внешней поверхности оболочки\n",
        "    return np.sqrt(σx_outer(x)**2+σy_outer(x)**2-σx_outer(x)*σy_outer(x))"
      ]
    },
    {
      "cell_type": "code",
      "execution_count": null,
      "metadata": {
        "trusted": true
      },
      "outputs": [],
      "source": [
        "x=np.linspace(0,2*λ,100) "
      ]
    },
    {
      "cell_type": "code",
      "execution_count": null,
      "metadata": {
        "trusted": true
      },
      "outputs": [],
      "source": [
        "plt.figure(figsize=(16, 12))\n",
        "colors = ['b', 'g'] \n",
        "\n",
        "plt.subplot(2,2,1)\n",
        "\n",
        "plt.plot(x,Mx(x)/(10**3), color=colors[0])\n",
        "plt.fill_between(x,Mx(x)/(10**3), color='gray',alpha=0.3, hatch='||',edgecolor='black')\n",
        "plt.xlabel('x, м', fontsize=12)\n",
        "plt.ylabel('$M_x$(x), кН/М', fontsize=12)\n",
        "plt.title('Эпюра момента Mx')\n",
        "plt.grid(True, which=\"both\", ls=\"--\")\n",
        "plt.xticks(np.arange(min(x), max(x)+0.01, 0.05))\n",
        "plt.subplot(2, 2,2)\n",
        "\n",
        "plt.plot(x,My(x)/(10**3),color=colors[1])\n",
        "plt.fill_between(x,My(x)/(10**3), color='gray',alpha=0.3, hatch='||',edgecolor='black')\n",
        "plt.xlabel('x, м', fontsize=12)\n",
        "plt.ylabel('$M_y$(x), кН/М', fontsize=12)\n",
        "plt.title('Эпюра момента My')\n",
        "plt.grid(True, which=\"both\", ls=\"--\")\n",
        "plt.xticks(np.arange(min(x), max(x)+0.01, 0.05))\n",
        "\n",
        "plt.tight_layout()\n",
        "plt.show()"
      ]
    },
    {
      "cell_type": "code",
      "execution_count": null,
      "metadata": {
        "trusted": true
      },
      "outputs": [],
      "source": [
        "plt.figure(figsize=(16, 12))\n",
        "colors = ['b', 'g'] \n",
        "\n",
        "plt.subplot(2,2,1)\n",
        "\n",
        "plt.plot(x,Ny(x)/(10**6),color=colors[0])\n",
        "plt.fill_between(x,Ny(x)/(10**6), color='gray',alpha=0.3, hatch='||',edgecolor='black')\n",
        "plt.xlabel('x, м', fontsize=12)\n",
        "plt.ylabel('$N_y$(x), МН/м', fontsize=12)\n",
        "plt.title('Эпюра окружного усиления')\n",
        "plt.xticks(np.arange(min(x), max(x)+0.01, 0.05))\n",
        "plt.grid(True, which=\"both\", ls=\"--\")\n",
        "\n",
        "plt.subplot(2,2,2)\n",
        "\n",
        "plt.plot(x,Q(x)/(10**3),color=colors[1])\n",
        "plt.fill_between(x,Q(x)/(10**3), color='gray',alpha=0.3, hatch='||',edgecolor='black')\n",
        "plt.xlabel('x, м', fontsize=12)\n",
        "plt.ylabel('Q(x), кН', fontsize=12)\n",
        "plt.title('Эпюра поперечной силы Q')\n",
        "plt.xticks(np.arange(min(x), max(x)+0.01, 0.05))\n",
        "plt.grid(True, which=\"both\", ls=\"--\")\n",
        "\n",
        "plt.tight_layout()\n",
        "plt.show()"
      ]
    },
    {
      "cell_type": "code",
      "execution_count": null,
      "metadata": {
        "trusted": true
      },
      "outputs": [],
      "source": [
        "plt.figure(figsize=(16, 12))\n",
        "colors = ['b', 'g'] \n",
        "\n",
        "plt.subplot(2,2,1)\n",
        "\n",
        "plt.plot(x,σ_eqv_outer(x)/(10**6),color=colors[0])\n",
        "plt.fill_between(x,σ_eqv_outer(x)/(10**6), color='gray',alpha=0.3, hatch='||',edgecolor='black')\n",
        "plt.xlabel('x, м', fontsize=12)\n",
        "plt.ylabel('$σ_(eqv)$, МПа', fontsize=12)\n",
        "plt.title('Эпюра эквивалентных напряжений для внешней поверхности оболочки')\n",
        "plt.xticks(np.arange(min(x), max(x)+0.01, 0.05))\n",
        "plt.grid(True, which=\"both\", ls=\"--\")\n",
        "\n",
        "plt.subplot(2,2,2)\n",
        "\n",
        "plt.plot(x,σ_eqv_inner(x)/(10**6),color=colors[1])\n",
        "plt.fill_between(x,σ_eqv_inner(x)/(10**6), color='gray',alpha=0.3, hatch='||',edgecolor='black')\n",
        "plt.xlabel('x, м', fontsize=12)\n",
        "plt.ylabel('$σ_(eqv)$, МПа', fontsize=12)\n",
        "plt.title('Эпюра эквивалентных напряжений для внутренней поверхности оболочки')\n",
        "plt.xticks(np.arange(min(x), max(x)+0.01, 0.05))\n",
        "plt.xticks(np.arange(min(x), max(x)+0.01, 0.05))\n",
        "plt.grid(True, which=\"both\", ls=\"--\")\n",
        "\n",
        "plt.tight_layout()\n",
        "plt.show()"
      ]
    },
    {
      "cell_type": "code",
      "execution_count": null,
      "metadata": {
        "trusted": true
      },
      "outputs": [],
      "source": [
        "σ_eqv_inner_max=max(abs(σ_eqv_inner(x)))\n",
        "σ_eqv_outer_max=max(abs(σ_eqv_outer(x)))\n",
        "\n",
        "print (f'\\nМаксимальное эквивалентное напряжение внутренней поверхности оболочки σ_eqv_inner_max={σ_eqv_inner_max/(10**6)} МПа\\n')\n",
        "print (f'\\nМаксимальное эквивалентное напряжение внешней поверхности оболочки σ_eqv_outer_max={σ_eqv_outer_max/(10**6)} МПа\\n')"
      ]
    },
    {
      "cell_type": "code",
      "execution_count": null,
      "metadata": {
        "trusted": true
      },
      "outputs": [],
      "source": [
        "if σ_eqv_inner_max > σ_eqv_outer_max:\n",
        "    n=σ/σ_eqv_inner_max\n",
        "else:\n",
        "    n=σ/σ_eqv_outer_max\n",
        "print (f'\\nКоэффициент запаса прочности n={n}\\n')"
      ]
    },
    {
      "cell_type": "code",
      "execution_count": null,
      "metadata": {
        "trusted": true
      },
      "outputs": [],
      "source": [
        "plt.figure(figsize=(16, 12))\n",
        "colors = ['b', 'g'] \n",
        "\n",
        "plt.subplot(2,2,1)\n",
        "\n",
        "plt.plot(x,W(x),color=colors[0])\n",
        "plt.fill_between(x,W(x), color='gray',alpha=0.3, hatch='||',edgecolor='black')\n",
        "plt.xlabel('x, м', fontsize=12)\n",
        "plt.ylabel('W(x), м', fontsize=12)\n",
        "plt.title('Эпюра прогиба')\n",
        "plt.xticks(np.arange(min(x), max(x)+0.01, 0.05))\n",
        "plt.grid(True, which=\"both\", ls=\"--\")\n",
        "\n",
        "plt.subplot(2,2,2)\n",
        "\n",
        "plt.plot(x,φ(x),color=colors[1])\n",
        "plt.fill_between(x,φ(x), color='gray',alpha=0.3, hatch='||',edgecolor='black')\n",
        "plt.xlabel('x, м', fontsize=12)\n",
        "plt.ylabel('φ(x), рад', fontsize=12)\n",
        "plt.title('Эпюра углового перемещения')\n",
        "plt.xticks(np.arange(min(x), max(x)+0.01, 0.05))\n",
        "plt.grid(True, which=\"both\", ls=\"--\")\n",
        "\n",
        "plt.tight_layout()\n",
        "plt.show()"
      ]
    },
    {
      "cell_type": "code",
      "execution_count": null,
      "metadata": {
        "trusted": true
      },
      "outputs": [],
      "source": []
    }
  ],
  "metadata": {
    "kernelspec": {
      "display_name": "Python 3",
      "language": "python",
      "name": "python3"
    },
    "language_info": {
      "codemirror_mode": {
        "name": "ipython",
        "version": 3
      },
      "file_extension": ".py",
      "mimetype": "text/x-python",
      "name": "python",
      "nbconvert_exporter": "python",
      "pygments_lexer": "ipython3",
      "version": "3.11.9"
    }
  },
  "nbformat": 4,
  "nbformat_minor": 4
}
